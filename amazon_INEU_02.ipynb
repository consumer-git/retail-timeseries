{
 "cells": [
  {
   "cell_type": "code",
   "execution_count": 1,
   "id": "29c44b35",
   "metadata": {},
   "outputs": [],
   "source": [
    "import pandas as pd \n",
    "import numpy as np \n",
    "#import the warnings.\n",
    "import warnings \n",
    "warnings.filterwarnings(\"ignore\")"
   ]
  },
  {
   "cell_type": "code",
   "execution_count": 2,
   "id": "5da9703c",
   "metadata": {},
   "outputs": [
    {
     "name": "stdout",
     "output_type": "stream",
     "text": [
      "Requirement already satisfied: xlrd in /opt/anaconda3/lib/python3.7/site-packages (2.0.1)\n",
      "\u001b[33mWARNING: You are using pip version 21.2.4; however, version 21.3.1 is available.\n",
      "You should consider upgrading via the '/opt/anaconda3/bin/python -m pip install --upgrade pip' command.\u001b[0m\n"
     ]
    }
   ],
   "source": [
    "!pip install xlrd\n",
    "df_addr=pd.read_excel('/Users/merrillsequeira/Google Drive/INEURON_FILES/amazon_sales_proj/DATA/CUSTOMERADDRESS.xls')\n",
    "df_cust_details=pd.read_excel('/Users/merrillsequeira/Google Drive/INEURON_FILES/amazon_sales_proj/DATA/CUSTOMERS.xls')\n",
    "df_division=pd.read_excel('/Users/merrillsequeira/Google Drive/INEURON_FILES/amazon_sales_proj/DATA/DIVISION.xls')\n",
    "df_region=pd.read_excel('/Users/merrillsequeira/Google Drive/INEURON_FILES/amazon_sales_proj/DATA/REGION.xls')\n",
    "df_sales=pd.read_excel('/Users/merrillsequeira/Google Drive/INEURON_FILES/amazon_sales_proj/DATA/SALESDATA.xls')"
   ]
  },
  {
   "cell_type": "code",
   "execution_count": 3,
   "id": "974f2fd6",
   "metadata": {},
   "outputs": [
    {
     "data": {
      "text/html": [
       "<div>\n",
       "<style scoped>\n",
       "    .dataframe tbody tr th:only-of-type {\n",
       "        vertical-align: middle;\n",
       "    }\n",
       "\n",
       "    .dataframe tbody tr th {\n",
       "        vertical-align: top;\n",
       "    }\n",
       "\n",
       "    .dataframe thead th {\n",
       "        text-align: right;\n",
       "    }\n",
       "</style>\n",
       "<table border=\"1\" class=\"dataframe\">\n",
       "  <thead>\n",
       "    <tr style=\"text-align: right;\">\n",
       "      <th></th>\n",
       "      <th>Address Number</th>\n",
       "      <th>City</th>\n",
       "      <th>Country</th>\n",
       "      <th>Customer Address 1</th>\n",
       "      <th>Customer Address 2</th>\n",
       "      <th>Customer Address 3</th>\n",
       "      <th>Customer Address 4</th>\n",
       "      <th>State</th>\n",
       "      <th>Zip Code</th>\n",
       "    </tr>\n",
       "  </thead>\n",
       "  <tbody>\n",
       "    <tr>\n",
       "      <th>0</th>\n",
       "      <td>10000000</td>\n",
       "      <td>Akron</td>\n",
       "      <td>US</td>\n",
       "      <td>PO Box 6258</td>\n",
       "      <td></td>\n",
       "      <td></td>\n",
       "      <td></td>\n",
       "      <td>OH</td>\n",
       "      <td>44312</td>\n",
       "    </tr>\n",
       "    <tr>\n",
       "      <th>1</th>\n",
       "      <td>10000453</td>\n",
       "      <td></td>\n",
       "      <td>UK</td>\n",
       "      <td></td>\n",
       "      <td></td>\n",
       "      <td></td>\n",
       "      <td></td>\n",
       "      <td>NaN</td>\n",
       "      <td></td>\n",
       "    </tr>\n",
       "  </tbody>\n",
       "</table>\n",
       "</div>"
      ],
      "text/plain": [
       "   Address Number                       City Country  \\\n",
       "0        10000000                      Akron      US   \n",
       "1        10000453                                 UK   \n",
       "\n",
       "                         Customer Address 1  \\\n",
       "0                               PO Box 6258   \n",
       "1                                             \n",
       "\n",
       "                         Customer Address 2  \\\n",
       "0                                             \n",
       "1                                             \n",
       "\n",
       "                         Customer Address 3  \\\n",
       "0                                             \n",
       "1                                             \n",
       "\n",
       "                         Customer Address 4 State      Zip Code  \n",
       "0                                              OH         44312  \n",
       "1                                             NaN                "
      ]
     },
     "execution_count": 3,
     "metadata": {},
     "output_type": "execute_result"
    }
   ],
   "source": [
    "df_addr.head(2)"
   ]
  },
  {
   "cell_type": "code",
   "execution_count": 4,
   "id": "2de0a1fb",
   "metadata": {},
   "outputs": [
    {
     "data": {
      "text/html": [
       "<div>\n",
       "<style scoped>\n",
       "    .dataframe tbody tr th:only-of-type {\n",
       "        vertical-align: middle;\n",
       "    }\n",
       "\n",
       "    .dataframe tbody tr th {\n",
       "        vertical-align: top;\n",
       "    }\n",
       "\n",
       "    .dataframe thead th {\n",
       "        text-align: right;\n",
       "    }\n",
       "</style>\n",
       "<table border=\"1\" class=\"dataframe\">\n",
       "  <thead>\n",
       "    <tr style=\"text-align: right;\">\n",
       "      <th></th>\n",
       "      <th>Address Number</th>\n",
       "      <th>Business Family</th>\n",
       "      <th>Business Unit</th>\n",
       "      <th>Customer</th>\n",
       "      <th>Customer Number</th>\n",
       "      <th>Customer Type</th>\n",
       "      <th>Division</th>\n",
       "      <th>Line of Business</th>\n",
       "      <th>Phone</th>\n",
       "      <th>Region Code</th>\n",
       "      <th>Regional Sales Mgr</th>\n",
       "      <th>Search Type</th>\n",
       "    </tr>\n",
       "  </thead>\n",
       "  <tbody>\n",
       "    <tr>\n",
       "      <th>0</th>\n",
       "      <td>10000000</td>\n",
       "      <td>R3</td>\n",
       "      <td>1</td>\n",
       "      <td>City Supermarket</td>\n",
       "      <td>10000000</td>\n",
       "      <td>G2</td>\n",
       "      <td>2</td>\n",
       "      <td></td>\n",
       "      <td>816-455-8733</td>\n",
       "      <td>4</td>\n",
       "      <td>S16</td>\n",
       "      <td>C</td>\n",
       "    </tr>\n",
       "    <tr>\n",
       "      <th>1</th>\n",
       "      <td>10000453</td>\n",
       "      <td>R3</td>\n",
       "      <td>1</td>\n",
       "      <td>A Supermarket</td>\n",
       "      <td>10000453</td>\n",
       "      <td>G1</td>\n",
       "      <td>1</td>\n",
       "      <td></td>\n",
       "      <td>816-455-8733</td>\n",
       "      <td>5</td>\n",
       "      <td>S19</td>\n",
       "      <td>C</td>\n",
       "    </tr>\n",
       "  </tbody>\n",
       "</table>\n",
       "</div>"
      ],
      "text/plain": [
       "   Address Number Business Family  Business Unit          Customer  \\\n",
       "0        10000000              R3              1  City Supermarket   \n",
       "1        10000453              R3              1     A Supermarket   \n",
       "\n",
       "   Customer Number Customer Type  Division Line of Business         Phone  \\\n",
       "0         10000000            G2         2                   816-455-8733   \n",
       "1         10000453            G1         1                   816-455-8733   \n",
       "\n",
       "   Region Code Regional Sales Mgr Search Type  \n",
       "0            4                S16           C  \n",
       "1            5                S19           C  "
      ]
     },
     "execution_count": 4,
     "metadata": {},
     "output_type": "execute_result"
    }
   ],
   "source": [
    "df_cust_details.head(2) \n",
    "#len(df_cust_details) 684\n",
    "#connects to df_addr via 'Address Number'"
   ]
  },
  {
   "cell_type": "code",
   "execution_count": 5,
   "id": "38eff7d4",
   "metadata": {},
   "outputs": [
    {
     "data": {
      "text/html": [
       "<div>\n",
       "<style scoped>\n",
       "    .dataframe tbody tr th:only-of-type {\n",
       "        vertical-align: middle;\n",
       "    }\n",
       "\n",
       "    .dataframe tbody tr th {\n",
       "        vertical-align: top;\n",
       "    }\n",
       "\n",
       "    .dataframe thead th {\n",
       "        text-align: right;\n",
       "    }\n",
       "</style>\n",
       "<table border=\"1\" class=\"dataframe\">\n",
       "  <thead>\n",
       "    <tr style=\"text-align: right;\">\n",
       "      <th></th>\n",
       "      <th>Division</th>\n",
       "      <th>Division Name</th>\n",
       "    </tr>\n",
       "  </thead>\n",
       "  <tbody>\n",
       "    <tr>\n",
       "      <th>0</th>\n",
       "      <td>1</td>\n",
       "      <td>International</td>\n",
       "    </tr>\n",
       "    <tr>\n",
       "      <th>1</th>\n",
       "      <td>2</td>\n",
       "      <td>Domestic</td>\n",
       "    </tr>\n",
       "  </tbody>\n",
       "</table>\n",
       "</div>"
      ],
      "text/plain": [
       "   Division  Division Name\n",
       "0         1  International\n",
       "1         2       Domestic"
      ]
     },
     "execution_count": 5,
     "metadata": {},
     "output_type": "execute_result"
    }
   ],
   "source": [
    "df_division.head(2)"
   ]
  },
  {
   "cell_type": "code",
   "execution_count": 6,
   "id": "d1be68e6",
   "metadata": {},
   "outputs": [
    {
     "data": {
      "text/html": [
       "<div>\n",
       "<style scoped>\n",
       "    .dataframe tbody tr th:only-of-type {\n",
       "        vertical-align: middle;\n",
       "    }\n",
       "\n",
       "    .dataframe tbody tr th {\n",
       "        vertical-align: top;\n",
       "    }\n",
       "\n",
       "    .dataframe thead th {\n",
       "        text-align: right;\n",
       "    }\n",
       "</style>\n",
       "<table border=\"1\" class=\"dataframe\">\n",
       "  <thead>\n",
       "    <tr style=\"text-align: right;\">\n",
       "      <th></th>\n",
       "      <th>Region Code</th>\n",
       "      <th>Region Name</th>\n",
       "    </tr>\n",
       "  </thead>\n",
       "  <tbody>\n",
       "    <tr>\n",
       "      <th>0</th>\n",
       "      <td>0</td>\n",
       "      <td>Canada</td>\n",
       "    </tr>\n",
       "    <tr>\n",
       "      <th>1</th>\n",
       "      <td>1</td>\n",
       "      <td>Western</td>\n",
       "    </tr>\n",
       "  </tbody>\n",
       "</table>\n",
       "</div>"
      ],
      "text/plain": [
       "   Region Code Region Name\n",
       "0            0      Canada\n",
       "1            1     Western"
      ]
     },
     "execution_count": 6,
     "metadata": {},
     "output_type": "execute_result"
    }
   ],
   "source": [
    "df_region.head(2)\n",
    "#connects to df_cust_details via 'Region Code'"
   ]
  },
  {
   "cell_type": "code",
   "execution_count": 7,
   "id": "acd9c3e5",
   "metadata": {},
   "outputs": [
    {
     "data": {
      "text/html": [
       "<div>\n",
       "<style scoped>\n",
       "    .dataframe tbody tr th:only-of-type {\n",
       "        vertical-align: middle;\n",
       "    }\n",
       "\n",
       "    .dataframe tbody tr th {\n",
       "        vertical-align: top;\n",
       "    }\n",
       "\n",
       "    .dataframe thead th {\n",
       "        text-align: right;\n",
       "    }\n",
       "</style>\n",
       "<table border=\"1\" class=\"dataframe\">\n",
       "  <thead>\n",
       "    <tr style=\"text-align: right;\">\n",
       "      <th></th>\n",
       "      <th>CustKey</th>\n",
       "      <th>DateKey</th>\n",
       "      <th>Discount Amount</th>\n",
       "      <th>Invoice Date</th>\n",
       "      <th>Invoice Number</th>\n",
       "      <th>Item Class</th>\n",
       "      <th>Item Number</th>\n",
       "      <th>Item</th>\n",
       "      <th>Line Number</th>\n",
       "      <th>List Price</th>\n",
       "      <th>...</th>\n",
       "      <th>Sales Amount</th>\n",
       "      <th>Sales Amount Based on List Price</th>\n",
       "      <th>Sales Cost Amount</th>\n",
       "      <th>Sales Margin Amount</th>\n",
       "      <th>Sales Price</th>\n",
       "      <th>Sales Quantity</th>\n",
       "      <th>Sales Rep</th>\n",
       "      <th>U/M</th>\n",
       "      <th>Unnamed: 20</th>\n",
       "      <th>Unnamed: 21</th>\n",
       "    </tr>\n",
       "  </thead>\n",
       "  <tbody>\n",
       "    <tr>\n",
       "      <th>0</th>\n",
       "      <td>10000481</td>\n",
       "      <td>2017-04-30</td>\n",
       "      <td>-237.91</td>\n",
       "      <td>2017-04-30</td>\n",
       "      <td>100012</td>\n",
       "      <td>NaN</td>\n",
       "      <td>NaN</td>\n",
       "      <td>Urban Large Eggs</td>\n",
       "      <td>2000</td>\n",
       "      <td>0.00</td>\n",
       "      <td>...</td>\n",
       "      <td>237.91</td>\n",
       "      <td>0.00</td>\n",
       "      <td>0.0</td>\n",
       "      <td>237.91</td>\n",
       "      <td>237.91</td>\n",
       "      <td>1</td>\n",
       "      <td>184</td>\n",
       "      <td>EA</td>\n",
       "      <td>NaN</td>\n",
       "      <td>U/M = unit of measure</td>\n",
       "    </tr>\n",
       "    <tr>\n",
       "      <th>1</th>\n",
       "      <td>10002220</td>\n",
       "      <td>2017-07-14</td>\n",
       "      <td>368.79</td>\n",
       "      <td>2017-07-14</td>\n",
       "      <td>100233</td>\n",
       "      <td>P01</td>\n",
       "      <td>20910</td>\n",
       "      <td>Moms Sliced Turkey</td>\n",
       "      <td>1000</td>\n",
       "      <td>824.96</td>\n",
       "      <td>...</td>\n",
       "      <td>456.17</td>\n",
       "      <td>824.96</td>\n",
       "      <td>0.0</td>\n",
       "      <td>456.17</td>\n",
       "      <td>456.17</td>\n",
       "      <td>1</td>\n",
       "      <td>127</td>\n",
       "      <td>EA</td>\n",
       "      <td>NaN</td>\n",
       "      <td>NaN</td>\n",
       "    </tr>\n",
       "  </tbody>\n",
       "</table>\n",
       "<p>2 rows × 22 columns</p>\n",
       "</div>"
      ],
      "text/plain": [
       "    CustKey    DateKey  Discount Amount Invoice Date  Invoice Number  \\\n",
       "0  10000481 2017-04-30          -237.91   2017-04-30          100012   \n",
       "1  10002220 2017-07-14           368.79   2017-07-14          100233   \n",
       "\n",
       "  Item Class Item Number                Item  Line Number  List Price  ...  \\\n",
       "0        NaN         NaN    Urban Large Eggs         2000        0.00  ...   \n",
       "1        P01       20910  Moms Sliced Turkey         1000      824.96  ...   \n",
       "\n",
       "   Sales Amount Sales Amount Based on List Price  Sales Cost Amount  \\\n",
       "0        237.91                             0.00                0.0   \n",
       "1        456.17                           824.96                0.0   \n",
       "\n",
       "   Sales Margin Amount  Sales Price  Sales Quantity  Sales Rep  U/M  \\\n",
       "0               237.91       237.91               1        184   EA   \n",
       "1               456.17       456.17               1        127   EA   \n",
       "\n",
       "   Unnamed: 20            Unnamed: 21  \n",
       "0          NaN  U/M = unit of measure  \n",
       "1          NaN                    NaN  \n",
       "\n",
       "[2 rows x 22 columns]"
      ]
     },
     "execution_count": 7,
     "metadata": {},
     "output_type": "execute_result"
    }
   ],
   "source": [
    "df_sales.head(2)\n",
    "\n",
    "#connects to df_cust_details via 'CustKey' to 'Customer Number'"
   ]
  },
  {
   "cell_type": "code",
   "execution_count": 8,
   "id": "33e84a96",
   "metadata": {},
   "outputs": [
    {
     "data": {
      "text/plain": [
       "(Index(['CustKey', 'DateKey', 'Discount Amount', 'Invoice Date',\n",
       "        'Invoice Number', 'Item Class', 'Item Number', 'Item', 'Line Number',\n",
       "        'List Price', 'Order Number', 'Promised Delivery Date', 'Sales Amount',\n",
       "        'Sales Amount Based on List Price', 'Sales Cost Amount',\n",
       "        'Sales Margin Amount', 'Sales Price', 'Sales Quantity', 'Sales Rep',\n",
       "        'U/M', 'Unnamed: 20', 'Unnamed: 21'],\n",
       "       dtype='object'),\n",
       " 65282)"
      ]
     },
     "execution_count": 8,
     "metadata": {},
     "output_type": "execute_result"
    }
   ],
   "source": [
    "df_sales.columns, len(df_sales) "
   ]
  },
  {
   "cell_type": "code",
   "execution_count": 9,
   "id": "dfdbed17",
   "metadata": {},
   "outputs": [],
   "source": [
    "#connecting df_sales AND df_cust_details\n",
    "\n",
    "df1=df_sales.merge(df_cust_details, left_on='CustKey', right_on='Customer Number')\n"
   ]
  },
  {
   "cell_type": "code",
   "execution_count": 10,
   "id": "119a76ad",
   "metadata": {},
   "outputs": [],
   "source": [
    "df2=df1.merge(df_region, left_on='Region Code', right_on='Region Code')"
   ]
  },
  {
   "cell_type": "code",
   "execution_count": 11,
   "id": "9f1a00f0",
   "metadata": {},
   "outputs": [
    {
     "data": {
      "text/plain": [
       "Index(['CustKey', 'DateKey', 'Discount Amount', 'Invoice Date',\n",
       "       'Invoice Number', 'Item Class', 'Item Number', 'Item', 'Line Number',\n",
       "       'List Price', 'Order Number', 'Promised Delivery Date', 'Sales Amount',\n",
       "       'Sales Amount Based on List Price', 'Sales Cost Amount',\n",
       "       'Sales Margin Amount', 'Sales Price', 'Sales Quantity', 'Sales Rep',\n",
       "       'U/M', 'Unnamed: 20', 'Unnamed: 21', 'Address Number',\n",
       "       'Business Family', 'Business Unit', 'Customer', 'Customer Number',\n",
       "       'Customer Type', 'Division', 'Line of Business', 'Phone', 'Region Code',\n",
       "       'Regional Sales Mgr', 'Search Type', 'Region Name'],\n",
       "      dtype='object')"
      ]
     },
     "execution_count": 11,
     "metadata": {},
     "output_type": "execute_result"
    }
   ],
   "source": [
    "df2.columns"
   ]
  },
  {
   "cell_type": "code",
   "execution_count": 12,
   "id": "6e794a3e",
   "metadata": {},
   "outputs": [],
   "source": [
    "df3=df2.merge(df_division, left_on='Division', right_on='Division')\n"
   ]
  },
  {
   "cell_type": "code",
   "execution_count": 13,
   "id": "be494633",
   "metadata": {},
   "outputs": [
    {
     "data": {
      "text/plain": [
       "65812"
      ]
     },
     "execution_count": 13,
     "metadata": {},
     "output_type": "execute_result"
    }
   ],
   "source": [
    "len(df3)"
   ]
  },
  {
   "cell_type": "code",
   "execution_count": 14,
   "id": "56a79a1e",
   "metadata": {},
   "outputs": [
    {
     "data": {
      "text/html": [
       "<div>\n",
       "<style scoped>\n",
       "    .dataframe tbody tr th:only-of-type {\n",
       "        vertical-align: middle;\n",
       "    }\n",
       "\n",
       "    .dataframe tbody tr th {\n",
       "        vertical-align: top;\n",
       "    }\n",
       "\n",
       "    .dataframe thead th {\n",
       "        text-align: right;\n",
       "    }\n",
       "</style>\n",
       "<table border=\"1\" class=\"dataframe\">\n",
       "  <thead>\n",
       "    <tr style=\"text-align: right;\">\n",
       "      <th></th>\n",
       "      <th>CustKey</th>\n",
       "      <th>DateKey</th>\n",
       "      <th>Discount Amount</th>\n",
       "      <th>Invoice Date</th>\n",
       "      <th>Invoice Number</th>\n",
       "      <th>Item Class</th>\n",
       "      <th>Item Number</th>\n",
       "      <th>Item</th>\n",
       "      <th>Line Number</th>\n",
       "      <th>List Price</th>\n",
       "      <th>...</th>\n",
       "      <th>Customer Number</th>\n",
       "      <th>Customer Type</th>\n",
       "      <th>Division</th>\n",
       "      <th>Line of Business</th>\n",
       "      <th>Phone</th>\n",
       "      <th>Region Code</th>\n",
       "      <th>Regional Sales Mgr</th>\n",
       "      <th>Search Type</th>\n",
       "      <th>Region Name</th>\n",
       "      <th>Division Name</th>\n",
       "    </tr>\n",
       "  </thead>\n",
       "  <tbody>\n",
       "    <tr>\n",
       "      <th>0</th>\n",
       "      <td>10000481</td>\n",
       "      <td>2017-04-30</td>\n",
       "      <td>-237.91</td>\n",
       "      <td>2017-04-30</td>\n",
       "      <td>100012</td>\n",
       "      <td>NaN</td>\n",
       "      <td>NaN</td>\n",
       "      <td>Urban Large Eggs</td>\n",
       "      <td>2000</td>\n",
       "      <td>0.00</td>\n",
       "      <td>...</td>\n",
       "      <td>10000481</td>\n",
       "      <td>G2</td>\n",
       "      <td>2</td>\n",
       "      <td></td>\n",
       "      <td>816-455-8733</td>\n",
       "      <td>4</td>\n",
       "      <td>S5</td>\n",
       "      <td>C</td>\n",
       "      <td>Central</td>\n",
       "      <td>Domestic</td>\n",
       "    </tr>\n",
       "    <tr>\n",
       "      <th>1</th>\n",
       "      <td>10000481</td>\n",
       "      <td>2017-01-05</td>\n",
       "      <td>1681.20</td>\n",
       "      <td>2017-01-05</td>\n",
       "      <td>330000</td>\n",
       "      <td>P01</td>\n",
       "      <td>30283</td>\n",
       "      <td>Even Better 2% Milk</td>\n",
       "      <td>1000</td>\n",
       "      <td>1321.70</td>\n",
       "      <td>...</td>\n",
       "      <td>10000481</td>\n",
       "      <td>G2</td>\n",
       "      <td>2</td>\n",
       "      <td></td>\n",
       "      <td>816-455-8733</td>\n",
       "      <td>4</td>\n",
       "      <td>S5</td>\n",
       "      <td>C</td>\n",
       "      <td>Central</td>\n",
       "      <td>Domestic</td>\n",
       "    </tr>\n",
       "    <tr>\n",
       "      <th>2</th>\n",
       "      <td>10000481</td>\n",
       "      <td>2017-01-14</td>\n",
       "      <td>389.88</td>\n",
       "      <td>2017-01-14</td>\n",
       "      <td>120000</td>\n",
       "      <td>P01</td>\n",
       "      <td>33445</td>\n",
       "      <td>Best Choice Corn Chips</td>\n",
       "      <td>1000</td>\n",
       "      <td>974.69</td>\n",
       "      <td>...</td>\n",
       "      <td>10000481</td>\n",
       "      <td>G2</td>\n",
       "      <td>2</td>\n",
       "      <td></td>\n",
       "      <td>816-455-8733</td>\n",
       "      <td>4</td>\n",
       "      <td>S5</td>\n",
       "      <td>C</td>\n",
       "      <td>Central</td>\n",
       "      <td>Domestic</td>\n",
       "    </tr>\n",
       "    <tr>\n",
       "      <th>3</th>\n",
       "      <td>10000481</td>\n",
       "      <td>2017-01-17</td>\n",
       "      <td>389.88</td>\n",
       "      <td>2017-01-17</td>\n",
       "      <td>120327</td>\n",
       "      <td>P01</td>\n",
       "      <td>33445</td>\n",
       "      <td>Best Choice Corn Chips</td>\n",
       "      <td>1000</td>\n",
       "      <td>974.69</td>\n",
       "      <td>...</td>\n",
       "      <td>10000481</td>\n",
       "      <td>G2</td>\n",
       "      <td>2</td>\n",
       "      <td></td>\n",
       "      <td>816-455-8733</td>\n",
       "      <td>4</td>\n",
       "      <td>S5</td>\n",
       "      <td>C</td>\n",
       "      <td>Central</td>\n",
       "      <td>Domestic</td>\n",
       "    </tr>\n",
       "    <tr>\n",
       "      <th>4</th>\n",
       "      <td>10000481</td>\n",
       "      <td>2019-02-12</td>\n",
       "      <td>1681.20</td>\n",
       "      <td>2019-02-12</td>\n",
       "      <td>321678</td>\n",
       "      <td>P01</td>\n",
       "      <td>30283</td>\n",
       "      <td>Even Better 2% Milk</td>\n",
       "      <td>1000</td>\n",
       "      <td>1321.70</td>\n",
       "      <td>...</td>\n",
       "      <td>10000481</td>\n",
       "      <td>G2</td>\n",
       "      <td>2</td>\n",
       "      <td></td>\n",
       "      <td>816-455-8733</td>\n",
       "      <td>4</td>\n",
       "      <td>S5</td>\n",
       "      <td>C</td>\n",
       "      <td>Central</td>\n",
       "      <td>Domestic</td>\n",
       "    </tr>\n",
       "  </tbody>\n",
       "</table>\n",
       "<p>5 rows × 36 columns</p>\n",
       "</div>"
      ],
      "text/plain": [
       "    CustKey    DateKey  Discount Amount Invoice Date  Invoice Number  \\\n",
       "0  10000481 2017-04-30          -237.91   2017-04-30          100012   \n",
       "1  10000481 2017-01-05          1681.20   2017-01-05          330000   \n",
       "2  10000481 2017-01-14           389.88   2017-01-14          120000   \n",
       "3  10000481 2017-01-17           389.88   2017-01-17          120327   \n",
       "4  10000481 2019-02-12          1681.20   2019-02-12          321678   \n",
       "\n",
       "  Item Class Item Number                    Item  Line Number  List Price  \\\n",
       "0        NaN         NaN        Urban Large Eggs         2000        0.00   \n",
       "1        P01       30283     Even Better 2% Milk         1000     1321.70   \n",
       "2        P01       33445  Best Choice Corn Chips         1000      974.69   \n",
       "3        P01       33445  Best Choice Corn Chips         1000      974.69   \n",
       "4        P01       30283     Even Better 2% Milk         1000     1321.70   \n",
       "\n",
       "   ...  Customer Number Customer Type  Division  Line of Business  \\\n",
       "0  ...         10000481            G2         2                     \n",
       "1  ...         10000481            G2         2                     \n",
       "2  ...         10000481            G2         2                     \n",
       "3  ...         10000481            G2         2                     \n",
       "4  ...         10000481            G2         2                     \n",
       "\n",
       "          Phone  Region Code  Regional Sales Mgr  Search Type  Region Name  \\\n",
       "0  816-455-8733            4                  S5            C      Central   \n",
       "1  816-455-8733            4                  S5            C      Central   \n",
       "2  816-455-8733            4                  S5            C      Central   \n",
       "3  816-455-8733            4                  S5            C      Central   \n",
       "4  816-455-8733            4                  S5            C      Central   \n",
       "\n",
       "  Division Name  \n",
       "0      Domestic  \n",
       "1      Domestic  \n",
       "2      Domestic  \n",
       "3      Domestic  \n",
       "4      Domestic  \n",
       "\n",
       "[5 rows x 36 columns]"
      ]
     },
     "execution_count": 14,
     "metadata": {},
     "output_type": "execute_result"
    }
   ],
   "source": [
    "df3.head()"
   ]
  },
  {
   "cell_type": "code",
   "execution_count": 15,
   "id": "353240c2",
   "metadata": {},
   "outputs": [
    {
     "name": "stdout",
     "output_type": "stream",
     "text": [
      "<class 'pandas.core.frame.DataFrame'>\n",
      "Int64Index: 65812 entries, 0 to 65811\n",
      "Data columns (total 36 columns):\n",
      " #   Column                            Non-Null Count  Dtype         \n",
      "---  ------                            --------------  -----         \n",
      " 0   CustKey                           65812 non-null  int64         \n",
      " 1   DateKey                           65812 non-null  datetime64[ns]\n",
      " 2   Discount Amount                   65810 non-null  float64       \n",
      " 3   Invoice Date                      65812 non-null  datetime64[ns]\n",
      " 4   Invoice Number                    65812 non-null  int64         \n",
      " 5   Item Class                        57473 non-null  object        \n",
      " 6   Item Number                       65771 non-null  object        \n",
      " 7   Item                              65812 non-null  object        \n",
      " 8   Line Number                       65812 non-null  int64         \n",
      " 9   List Price                        65812 non-null  float64       \n",
      " 10  Order Number                      65812 non-null  int64         \n",
      " 11  Promised Delivery Date            65812 non-null  datetime64[ns]\n",
      " 12  Sales Amount                      65812 non-null  float64       \n",
      " 13  Sales Amount Based on List Price  65812 non-null  float64       \n",
      " 14  Sales Cost Amount                 65812 non-null  float64       \n",
      " 15  Sales Margin Amount               65812 non-null  float64       \n",
      " 16  Sales Price                       65811 non-null  float64       \n",
      " 17  Sales Quantity                    65812 non-null  int64         \n",
      " 18  Sales Rep                         65812 non-null  int64         \n",
      " 19  U/M                               65812 non-null  object        \n",
      " 20  Unnamed: 20                       0 non-null      float64       \n",
      " 21  Unnamed: 21                       4 non-null      object        \n",
      " 22  Address Number                    65812 non-null  int64         \n",
      " 23  Business Family                   65812 non-null  object        \n",
      " 24  Business Unit                     65812 non-null  int64         \n",
      " 25  Customer                          65812 non-null  object        \n",
      " 26  Customer Number                   65812 non-null  int64         \n",
      " 27  Customer Type                     65812 non-null  object        \n",
      " 28  Division                          65812 non-null  int64         \n",
      " 29  Line of Business                  65812 non-null  object        \n",
      " 30  Phone                             65812 non-null  object        \n",
      " 31  Region Code                       65812 non-null  int64         \n",
      " 32  Regional Sales Mgr                65812 non-null  object        \n",
      " 33  Search Type                       65812 non-null  object        \n",
      " 34  Region Name                       65812 non-null  object        \n",
      " 35  Division Name                     65812 non-null  object        \n",
      "dtypes: datetime64[ns](3), float64(8), int64(11), object(14)\n",
      "memory usage: 18.6+ MB\n"
     ]
    }
   ],
   "source": [
    "df3.info()"
   ]
  },
  {
   "cell_type": "code",
   "execution_count": 16,
   "id": "dbf5a95c",
   "metadata": {},
   "outputs": [
    {
     "data": {
      "text/html": [
       "<div>\n",
       "<style scoped>\n",
       "    .dataframe tbody tr th:only-of-type {\n",
       "        vertical-align: middle;\n",
       "    }\n",
       "\n",
       "    .dataframe tbody tr th {\n",
       "        vertical-align: top;\n",
       "    }\n",
       "\n",
       "    .dataframe thead th {\n",
       "        text-align: right;\n",
       "    }\n",
       "</style>\n",
       "<table border=\"1\" class=\"dataframe\">\n",
       "  <thead>\n",
       "    <tr style=\"text-align: right;\">\n",
       "      <th></th>\n",
       "      <th>CustKey</th>\n",
       "      <th>Discount Amount</th>\n",
       "      <th>Invoice Number</th>\n",
       "      <th>Line Number</th>\n",
       "      <th>List Price</th>\n",
       "      <th>Order Number</th>\n",
       "      <th>Sales Amount</th>\n",
       "      <th>Sales Amount Based on List Price</th>\n",
       "      <th>Sales Cost Amount</th>\n",
       "      <th>Sales Margin Amount</th>\n",
       "      <th>Sales Price</th>\n",
       "      <th>Sales Quantity</th>\n",
       "      <th>Sales Rep</th>\n",
       "      <th>Unnamed: 20</th>\n",
       "      <th>Address Number</th>\n",
       "      <th>Business Unit</th>\n",
       "      <th>Customer Number</th>\n",
       "      <th>Division</th>\n",
       "      <th>Region Code</th>\n",
       "    </tr>\n",
       "  </thead>\n",
       "  <tbody>\n",
       "    <tr>\n",
       "      <th>count</th>\n",
       "      <td>6.581200e+04</td>\n",
       "      <td>65810.000000</td>\n",
       "      <td>65812.000000</td>\n",
       "      <td>65812.000000</td>\n",
       "      <td>65812.000000</td>\n",
       "      <td>65812.000000</td>\n",
       "      <td>65812.000000</td>\n",
       "      <td>65812.000000</td>\n",
       "      <td>65812.000000</td>\n",
       "      <td>65812.000000</td>\n",
       "      <td>65811.000000</td>\n",
       "      <td>65812.000000</td>\n",
       "      <td>65812.000000</td>\n",
       "      <td>0.0</td>\n",
       "      <td>6.581200e+04</td>\n",
       "      <td>65812.0</td>\n",
       "      <td>6.581200e+04</td>\n",
       "      <td>65812.000000</td>\n",
       "      <td>65812.000000</td>\n",
       "    </tr>\n",
       "    <tr>\n",
       "      <th>mean</th>\n",
       "      <td>1.001774e+07</td>\n",
       "      <td>1846.884026</td>\n",
       "      <td>215527.142345</td>\n",
       "      <td>23778.377226</td>\n",
       "      <td>514.889152</td>\n",
       "      <td>180853.052741</td>\n",
       "      <td>2836.655644</td>\n",
       "      <td>4683.401463</td>\n",
       "      <td>1651.858343</td>\n",
       "      <td>1184.797301</td>\n",
       "      <td>283.711742</td>\n",
       "      <td>44.752066</td>\n",
       "      <td>137.595195</td>\n",
       "      <td>NaN</td>\n",
       "      <td>1.001774e+07</td>\n",
       "      <td>1.0</td>\n",
       "      <td>1.001774e+07</td>\n",
       "      <td>1.649243</td>\n",
       "      <td>3.081794</td>\n",
       "    </tr>\n",
       "    <tr>\n",
       "      <th>std</th>\n",
       "      <td>7.157084e+03</td>\n",
       "      <td>9001.812160</td>\n",
       "      <td>95021.135666</td>\n",
       "      <td>32639.759888</td>\n",
       "      <td>448.874450</td>\n",
       "      <td>67450.851659</td>\n",
       "      <td>15104.649566</td>\n",
       "      <td>20615.966433</td>\n",
       "      <td>9518.725202</td>\n",
       "      <td>5837.840329</td>\n",
       "      <td>252.638939</td>\n",
       "      <td>427.944360</td>\n",
       "      <td>26.699724</td>\n",
       "      <td>NaN</td>\n",
       "      <td>7.157084e+03</td>\n",
       "      <td>0.0</td>\n",
       "      <td>7.157084e+03</td>\n",
       "      <td>0.477211</td>\n",
       "      <td>1.677093</td>\n",
       "    </tr>\n",
       "    <tr>\n",
       "      <th>min</th>\n",
       "      <td>1.000045e+07</td>\n",
       "      <td>-255820.800000</td>\n",
       "      <td>100012.000000</td>\n",
       "      <td>1000.000000</td>\n",
       "      <td>0.000000</td>\n",
       "      <td>100838.000000</td>\n",
       "      <td>200.010000</td>\n",
       "      <td>0.000000</td>\n",
       "      <td>0.000000</td>\n",
       "      <td>-3932.930000</td>\n",
       "      <td>-5000.000000</td>\n",
       "      <td>-1.000000</td>\n",
       "      <td>103.000000</td>\n",
       "      <td>NaN</td>\n",
       "      <td>1.000045e+07</td>\n",
       "      <td>1.0</td>\n",
       "      <td>1.000045e+07</td>\n",
       "      <td>1.000000</td>\n",
       "      <td>0.000000</td>\n",
       "    </tr>\n",
       "    <tr>\n",
       "      <th>25%</th>\n",
       "      <td>1.001272e+07</td>\n",
       "      <td>246.200000</td>\n",
       "      <td>117807.000000</td>\n",
       "      <td>3000.000000</td>\n",
       "      <td>181.560000</td>\n",
       "      <td>115972.750000</td>\n",
       "      <td>308.010000</td>\n",
       "      <td>561.040000</td>\n",
       "      <td>167.750000</td>\n",
       "      <td>129.930000</td>\n",
       "      <td>100.255486</td>\n",
       "      <td>2.000000</td>\n",
       "      <td>113.000000</td>\n",
       "      <td>NaN</td>\n",
       "      <td>1.001272e+07</td>\n",
       "      <td>1.0</td>\n",
       "      <td>1.001272e+07</td>\n",
       "      <td>1.000000</td>\n",
       "      <td>2.000000</td>\n",
       "    </tr>\n",
       "    <tr>\n",
       "      <th>50%</th>\n",
       "      <td>1.001981e+07</td>\n",
       "      <td>441.200000</td>\n",
       "      <td>222643.000000</td>\n",
       "      <td>12000.000000</td>\n",
       "      <td>325.190000</td>\n",
       "      <td>203762.000000</td>\n",
       "      <td>552.500000</td>\n",
       "      <td>997.050000</td>\n",
       "      <td>303.760000</td>\n",
       "      <td>246.330000</td>\n",
       "      <td>183.760000</td>\n",
       "      <td>3.000000</td>\n",
       "      <td>134.000000</td>\n",
       "      <td>NaN</td>\n",
       "      <td>1.001981e+07</td>\n",
       "      <td>1.0</td>\n",
       "      <td>1.001981e+07</td>\n",
       "      <td>2.000000</td>\n",
       "      <td>4.000000</td>\n",
       "    </tr>\n",
       "    <tr>\n",
       "      <th>75%</th>\n",
       "      <td>1.002351e+07</td>\n",
       "      <td>996.460000</td>\n",
       "      <td>314252.000000</td>\n",
       "      <td>32000.000000</td>\n",
       "      <td>803.860000</td>\n",
       "      <td>218578.000000</td>\n",
       "      <td>1275.620000</td>\n",
       "      <td>2308.080000</td>\n",
       "      <td>682.810000</td>\n",
       "      <td>576.240000</td>\n",
       "      <td>447.094167</td>\n",
       "      <td>8.000000</td>\n",
       "      <td>161.000000</td>\n",
       "      <td>NaN</td>\n",
       "      <td>1.002351e+07</td>\n",
       "      <td>1.0</td>\n",
       "      <td>1.002351e+07</td>\n",
       "      <td>2.000000</td>\n",
       "      <td>5.000000</td>\n",
       "    </tr>\n",
       "    <tr>\n",
       "      <th>max</th>\n",
       "      <td>1.002758e+07</td>\n",
       "      <td>343532.660000</td>\n",
       "      <td>332842.000000</td>\n",
       "      <td>344000.000000</td>\n",
       "      <td>2760.700000</td>\n",
       "      <td>321532.000000</td>\n",
       "      <td>555376.000000</td>\n",
       "      <td>632610.160000</td>\n",
       "      <td>366576.000000</td>\n",
       "      <td>188800.000000</td>\n",
       "      <td>6035.000000</td>\n",
       "      <td>16000.000000</td>\n",
       "      <td>185.000000</td>\n",
       "      <td>NaN</td>\n",
       "      <td>1.002758e+07</td>\n",
       "      <td>1.0</td>\n",
       "      <td>1.002758e+07</td>\n",
       "      <td>2.000000</td>\n",
       "      <td>5.000000</td>\n",
       "    </tr>\n",
       "  </tbody>\n",
       "</table>\n",
       "</div>"
      ],
      "text/plain": [
       "            CustKey  Discount Amount  Invoice Number    Line Number  \\\n",
       "count  6.581200e+04     65810.000000    65812.000000   65812.000000   \n",
       "mean   1.001774e+07      1846.884026   215527.142345   23778.377226   \n",
       "std    7.157084e+03      9001.812160    95021.135666   32639.759888   \n",
       "min    1.000045e+07   -255820.800000   100012.000000    1000.000000   \n",
       "25%    1.001272e+07       246.200000   117807.000000    3000.000000   \n",
       "50%    1.001981e+07       441.200000   222643.000000   12000.000000   \n",
       "75%    1.002351e+07       996.460000   314252.000000   32000.000000   \n",
       "max    1.002758e+07    343532.660000   332842.000000  344000.000000   \n",
       "\n",
       "         List Price   Order Number   Sales Amount  \\\n",
       "count  65812.000000   65812.000000   65812.000000   \n",
       "mean     514.889152  180853.052741    2836.655644   \n",
       "std      448.874450   67450.851659   15104.649566   \n",
       "min        0.000000  100838.000000     200.010000   \n",
       "25%      181.560000  115972.750000     308.010000   \n",
       "50%      325.190000  203762.000000     552.500000   \n",
       "75%      803.860000  218578.000000    1275.620000   \n",
       "max     2760.700000  321532.000000  555376.000000   \n",
       "\n",
       "       Sales Amount Based on List Price  Sales Cost Amount  \\\n",
       "count                      65812.000000       65812.000000   \n",
       "mean                        4683.401463        1651.858343   \n",
       "std                        20615.966433        9518.725202   \n",
       "min                            0.000000           0.000000   \n",
       "25%                          561.040000         167.750000   \n",
       "50%                          997.050000         303.760000   \n",
       "75%                         2308.080000         682.810000   \n",
       "max                       632610.160000      366576.000000   \n",
       "\n",
       "       Sales Margin Amount   Sales Price  Sales Quantity     Sales Rep  \\\n",
       "count         65812.000000  65811.000000    65812.000000  65812.000000   \n",
       "mean           1184.797301    283.711742       44.752066    137.595195   \n",
       "std            5837.840329    252.638939      427.944360     26.699724   \n",
       "min           -3932.930000  -5000.000000       -1.000000    103.000000   \n",
       "25%             129.930000    100.255486        2.000000    113.000000   \n",
       "50%             246.330000    183.760000        3.000000    134.000000   \n",
       "75%             576.240000    447.094167        8.000000    161.000000   \n",
       "max          188800.000000   6035.000000    16000.000000    185.000000   \n",
       "\n",
       "       Unnamed: 20  Address Number  Business Unit  Customer Number  \\\n",
       "count          0.0    6.581200e+04        65812.0     6.581200e+04   \n",
       "mean           NaN    1.001774e+07            1.0     1.001774e+07   \n",
       "std            NaN    7.157084e+03            0.0     7.157084e+03   \n",
       "min            NaN    1.000045e+07            1.0     1.000045e+07   \n",
       "25%            NaN    1.001272e+07            1.0     1.001272e+07   \n",
       "50%            NaN    1.001981e+07            1.0     1.001981e+07   \n",
       "75%            NaN    1.002351e+07            1.0     1.002351e+07   \n",
       "max            NaN    1.002758e+07            1.0     1.002758e+07   \n",
       "\n",
       "           Division   Region Code  \n",
       "count  65812.000000  65812.000000  \n",
       "mean       1.649243      3.081794  \n",
       "std        0.477211      1.677093  \n",
       "min        1.000000      0.000000  \n",
       "25%        1.000000      2.000000  \n",
       "50%        2.000000      4.000000  \n",
       "75%        2.000000      5.000000  \n",
       "max        2.000000      5.000000  "
      ]
     },
     "execution_count": 16,
     "metadata": {},
     "output_type": "execute_result"
    }
   ],
   "source": [
    "df3.describe()"
   ]
  },
  {
   "cell_type": "code",
   "execution_count": 17,
   "id": "a95a6f99",
   "metadata": {},
   "outputs": [],
   "source": [
    "# outliers suspected in 'Discount Amount' , 'List Price' , 'Sales Amount' , 'Sales Amount Based on List Price',\n",
    "#'Sales Margin Amount', 'Sales Price' ,'Sales Quantity'  "
   ]
  },
  {
   "cell_type": "code",
   "execution_count": 18,
   "id": "d783fb1a",
   "metadata": {},
   "outputs": [
    {
     "data": {
      "text/plain": [
       "CustKey                                 0\n",
       "DateKey                                 0\n",
       "Discount Amount                         2\n",
       "Invoice Date                            0\n",
       "Invoice Number                          0\n",
       "Item Class                           8339\n",
       "Item Number                            41\n",
       "Item                                    0\n",
       "Line Number                             0\n",
       "List Price                              0\n",
       "Order Number                            0\n",
       "Promised Delivery Date                  0\n",
       "Sales Amount                            0\n",
       "Sales Amount Based on List Price        0\n",
       "Sales Cost Amount                       0\n",
       "Sales Margin Amount                     0\n",
       "Sales Price                             1\n",
       "Sales Quantity                          0\n",
       "Sales Rep                               0\n",
       "U/M                                     0\n",
       "Unnamed: 20                         65812\n",
       "Unnamed: 21                         65808\n",
       "Address Number                          0\n",
       "Business Family                         0\n",
       "Business Unit                           0\n",
       "Customer                                0\n",
       "Customer Number                         0\n",
       "Customer Type                           0\n",
       "Division                                0\n",
       "Line of Business                        0\n",
       "Phone                                   0\n",
       "Region Code                             0\n",
       "Regional Sales Mgr                      0\n",
       "Search Type                             0\n",
       "Region Name                             0\n",
       "Division Name                           0\n",
       "dtype: int64"
      ]
     },
     "execution_count": 18,
     "metadata": {},
     "output_type": "execute_result"
    }
   ],
   "source": [
    "#checking nulls \n",
    "df3.isnull().sum()"
   ]
  },
  {
   "cell_type": "code",
   "execution_count": 19,
   "id": "b5682c82",
   "metadata": {},
   "outputs": [],
   "source": [
    "df3=df3[~df3['Item Class'].isnull()] "
   ]
  },
  {
   "cell_type": "code",
   "execution_count": 20,
   "id": "df4997fb",
   "metadata": {},
   "outputs": [],
   "source": [
    "df3=df3[~df3['Item Number'].isnull()] "
   ]
  },
  {
   "cell_type": "code",
   "execution_count": 21,
   "id": "51ed4d0e",
   "metadata": {},
   "outputs": [],
   "source": [
    "df3.drop(columns=['Unnamed: 20','Unnamed: 21'],axis=1,inplace=True)"
   ]
  },
  {
   "cell_type": "code",
   "execution_count": 22,
   "id": "80eee3e0",
   "metadata": {},
   "outputs": [
    {
     "data": {
      "text/plain": [
       "(57473, 34)"
      ]
     },
     "execution_count": 22,
     "metadata": {},
     "output_type": "execute_result"
    }
   ],
   "source": [
    "df3.shape #originally 65812 "
   ]
  },
  {
   "cell_type": "code",
   "execution_count": 23,
   "id": "e28bc0a1",
   "metadata": {},
   "outputs": [
    {
     "data": {
      "text/plain": [
       "Index(['CustKey', 'DateKey', 'Discount Amount', 'Invoice Date',\n",
       "       'Invoice Number', 'Item Class', 'Item Number', 'Item', 'Line Number',\n",
       "       'List Price', 'Order Number', 'Promised Delivery Date', 'Sales Amount',\n",
       "       'Sales Amount Based on List Price', 'Sales Cost Amount',\n",
       "       'Sales Margin Amount', 'Sales Price', 'Sales Quantity', 'Sales Rep',\n",
       "       'U/M', 'Address Number', 'Business Family', 'Business Unit', 'Customer',\n",
       "       'Customer Number', 'Customer Type', 'Division', 'Line of Business',\n",
       "       'Phone', 'Region Code', 'Regional Sales Mgr', 'Search Type',\n",
       "       'Region Name', 'Division Name'],\n",
       "      dtype='object')"
      ]
     },
     "execution_count": 23,
     "metadata": {},
     "output_type": "execute_result"
    }
   ],
   "source": [
    "df3.columns"
   ]
  },
  {
   "cell_type": "code",
   "execution_count": 24,
   "id": "5e2a698f",
   "metadata": {},
   "outputs": [],
   "source": [
    "outs=['Discount Amount' , 'List Price' , 'Sales Amount' , 'Sales Amount Based on List Price','Sales Margin Amount', 'Sales Price' ,'Sales Quantity']"
   ]
  },
  {
   "cell_type": "code",
   "execution_count": 25,
   "id": "d6c0a825",
   "metadata": {},
   "outputs": [],
   "source": [
    "import matplotlib.pyplot as plt, seaborn as sns\n",
    "%matplotlib inline\n",
    "import seaborn as sns "
   ]
  },
  {
   "cell_type": "code",
   "execution_count": 26,
   "id": "930742db",
   "metadata": {},
   "outputs": [
    {
     "data": {
      "image/png": "[encoded data removed]",
      "text/plain": [
       "<Figure size 576x144 with 1 Axes>"
      ]
     },
     "metadata": {
      "needs_background": "light"
     },
     "output_type": "display_data"
    },
    {
     "data": {
      "image/png": "[encoded data removed]",
      "text/plain": [
       "<Figure size 576x144 with 1 Axes>"
      ]
     },
     "metadata": {
      "needs_background": "light"
     },
     "output_type": "display_data"
    },
    {
     "data": {
      "image/png": "[encoded data removed]",
      "text/plain": [
       "<Figure size 576x144 with 1 Axes>"
      ]
     },
     "metadata": {
      "needs_background": "light"
     },
     "output_type": "display_data"
    },
    {
     "data": {
      "image/png": "[encoded data removed]",
      "text/plain": [
       "<Figure size 576x144 with 1 Axes>"
      ]
     },
     "metadata": {
      "needs_background": "light"
     },
     "output_type": "display_data"
    },
    {
     "data": {
      "image/png": "[encoded data removed]",
      "text/plain": [
       "<Figure size 576x144 with 1 Axes>"
      ]
     },
     "metadata": {
      "needs_background": "light"
     },
     "output_type": "display_data"
    },
    {
     "data": {
      "image/png": "[encoded data removed]",
      "text/plain": [
       "<Figure size 576x144 with 1 Axes>"
      ]
     },
     "metadata": {
      "needs_background": "light"
     },
     "output_type": "display_data"
    },
    {
     "data": {
      "image/png": "[encoded data removed]",
      "text/plain": [
       "<Figure size 576x144 with 1 Axes>"
      ]
     },
     "metadata": {
      "needs_background": "light"
     },
     "output_type": "display_data"
    }
   ],
   "source": [
    "for i in outs:\n",
    "    plt.figure(figsize=(8,2)) \n",
    "    sns.boxplot(df3[i])\n",
    "    "
   ]
  },
  {
   "cell_type": "code",
   "execution_count": 27,
   "id": "6ab2c925",
   "metadata": {},
   "outputs": [],
   "source": [
    "# capping outliers \n",
    "percentiles = df3['Discount Amount'].quantile([0.05,0.90]).values\n",
    "df3['Discount Amount'][df3['Discount Amount'] <= percentiles[0]] = percentiles[0]\n",
    "df3['Discount Amount'][df3['Discount Amount'] >= percentiles[1]] = percentiles[1]"
   ]
  },
  {
   "cell_type": "code",
   "execution_count": 28,
   "id": "9dc523fa",
   "metadata": {},
   "outputs": [],
   "source": [
    "percentiles2 = df3['Sales Amount'].quantile([0.05,0.90]).values\n",
    "df3['Sales Amount'][df3['Sales Amount'] <= percentiles2[0]] = percentiles2[0]\n",
    "df3['Sales Amount'][df3['Sales Amount'] >= percentiles2[1]] = percentiles2[1]"
   ]
  },
  {
   "cell_type": "code",
   "execution_count": 29,
   "id": "29aa7671",
   "metadata": {},
   "outputs": [],
   "source": [
    "#Sales Amount Based on List Price\n",
    "percentiles3 = df3['Sales Amount Based on List Price'].quantile([0.05,0.90]).values\n",
    "df3['Sales Amount Based on List Price'][df3['Sales Amount Based on List Price'] <= percentiles3[0]] = percentiles3[0]\n",
    "df3['Sales Amount Based on List Price'][df3['Sales Amount Based on List Price'] >= percentiles3[1]] = percentiles3[1]\n"
   ]
  },
  {
   "cell_type": "code",
   "execution_count": 30,
   "id": "b7fc27b3",
   "metadata": {},
   "outputs": [],
   "source": [
    "#Sales Margin Amount\n",
    "\n",
    "percentiles4 = df3['Sales Margin Amount'].quantile([0.05,0.90]).values\n",
    "df3['Sales Margin Amount'][df3['Sales Margin Amount'] <= percentiles4[0]] = percentiles4[0]\n",
    "df3['Sales Margin Amount'][df3['Sales Margin Amount'] >= percentiles4[1]] = percentiles4[1]\n",
    "\n",
    "\n"
   ]
  },
  {
   "cell_type": "code",
   "execution_count": 31,
   "id": "baca548b",
   "metadata": {},
   "outputs": [],
   "source": [
    "#Sales Quantity\n",
    "percentiles5 = df3['Sales Quantity'].quantile([0.05,0.90]).values\n",
    "df3['Sales Quantity'][df3['Sales Quantity'] <= percentiles5[0]] = percentiles5[0]\n",
    "df3['Sales Quantity'][df3['Sales Quantity'] >= percentiles5[1]] = percentiles5[1]\n",
    "\n"
   ]
  },
  {
   "cell_type": "code",
   "execution_count": 32,
   "id": "54ee5c9a",
   "metadata": {},
   "outputs": [
    {
     "data": {
      "image/png": "[encoded data removed]",
      "text/plain": [
       "<Figure size 576x72 with 1 Axes>"
      ]
     },
     "metadata": {
      "needs_background": "light"
     },
     "output_type": "display_data"
    },
    {
     "data": {
      "image/png": "[encoded data removed]",
      "text/plain": [
       "<Figure size 576x72 with 1 Axes>"
      ]
     },
     "metadata": {
      "needs_background": "light"
     },
     "output_type": "display_data"
    },
    {
     "data": {
      "image/png": "[encoded data removed]",
      "text/plain": [
       "<Figure size 576x72 with 1 Axes>"
      ]
     },
     "metadata": {
      "needs_background": "light"
     },
     "output_type": "display_data"
    },
    {
     "data": {
      "image/png": "[encoded data removed]",
      "text/plain": [
       "<Figure size 576x72 with 1 Axes>"
      ]
     },
     "metadata": {
      "needs_background": "light"
     },
     "output_type": "display_data"
    },
    {
     "data": {
      "image/png": "[encoded data removed]",
      "text/plain": [
       "<Figure size 576x72 with 1 Axes>"
      ]
     },
     "metadata": {
      "needs_background": "light"
     },
     "output_type": "display_data"
    },
    {
     "data": {
      "image/png": "[encoded data removed]",
      "text/plain": [
       "<Figure size 576x72 with 1 Axes>"
      ]
     },
     "metadata": {
      "needs_background": "light"
     },
     "output_type": "display_data"
    },
    {
     "data": {
      "image/png": "[encoded data removed]",
      "text/plain": [
       "<Figure size 576x72 with 1 Axes>"
      ]
     },
     "metadata": {
      "needs_background": "light"
     },
     "output_type": "display_data"
    }
   ],
   "source": [
    "for i in outs:\n",
    "    plt.figure(figsize=(8,1)) \n",
    "    sns.boxplot(df3[i])\n",
    "    "
   ]
  },
  {
   "cell_type": "code",
   "execution_count": 33,
   "id": "03b92644",
   "metadata": {},
   "outputs": [],
   "source": [
    "# percentiles5, percentiles4, percentiles3, percentiles2, percentiles"
   ]
  },
  {
   "cell_type": "code",
   "execution_count": 34,
   "id": "a7e9bfbc",
   "metadata": {},
   "outputs": [
    {
     "data": {
      "text/plain": [
       "(57473, 34)"
      ]
     },
     "execution_count": 34,
     "metadata": {},
     "output_type": "execute_result"
    }
   ],
   "source": [
    "df3.shape"
   ]
  },
  {
   "cell_type": "code",
   "execution_count": 35,
   "id": "a7a9750f",
   "metadata": {},
   "outputs": [
    {
     "data": {
      "text/html": [
       "<div>\n",
       "<style scoped>\n",
       "    .dataframe tbody tr th:only-of-type {\n",
       "        vertical-align: middle;\n",
       "    }\n",
       "\n",
       "    .dataframe tbody tr th {\n",
       "        vertical-align: top;\n",
       "    }\n",
       "\n",
       "    .dataframe thead th {\n",
       "        text-align: right;\n",
       "    }\n",
       "</style>\n",
       "<table border=\"1\" class=\"dataframe\">\n",
       "  <thead>\n",
       "    <tr style=\"text-align: right;\">\n",
       "      <th></th>\n",
       "      <th>CustKey</th>\n",
       "      <th>DateKey</th>\n",
       "      <th>Discount Amount</th>\n",
       "      <th>Invoice Date</th>\n",
       "      <th>Invoice Number</th>\n",
       "      <th>Item Class</th>\n",
       "      <th>Item Number</th>\n",
       "      <th>Item</th>\n",
       "      <th>Line Number</th>\n",
       "      <th>List Price</th>\n",
       "      <th>...</th>\n",
       "      <th>Customer Number</th>\n",
       "      <th>Customer Type</th>\n",
       "      <th>Division</th>\n",
       "      <th>Line of Business</th>\n",
       "      <th>Phone</th>\n",
       "      <th>Region Code</th>\n",
       "      <th>Regional Sales Mgr</th>\n",
       "      <th>Search Type</th>\n",
       "      <th>Region Name</th>\n",
       "      <th>Division Name</th>\n",
       "    </tr>\n",
       "  </thead>\n",
       "  <tbody>\n",
       "    <tr>\n",
       "      <th>1</th>\n",
       "      <td>10000481</td>\n",
       "      <td>2017-01-05</td>\n",
       "      <td>1681.20</td>\n",
       "      <td>2017-01-05</td>\n",
       "      <td>330000</td>\n",
       "      <td>P01</td>\n",
       "      <td>30283</td>\n",
       "      <td>Even Better 2% Milk</td>\n",
       "      <td>1000</td>\n",
       "      <td>1321.70</td>\n",
       "      <td>...</td>\n",
       "      <td>10000481</td>\n",
       "      <td>G2</td>\n",
       "      <td>2</td>\n",
       "      <td></td>\n",
       "      <td>816-455-8733</td>\n",
       "      <td>4</td>\n",
       "      <td>S5</td>\n",
       "      <td>C</td>\n",
       "      <td>Central</td>\n",
       "      <td>Domestic</td>\n",
       "    </tr>\n",
       "    <tr>\n",
       "      <th>2</th>\n",
       "      <td>10000481</td>\n",
       "      <td>2017-01-14</td>\n",
       "      <td>389.88</td>\n",
       "      <td>2017-01-14</td>\n",
       "      <td>120000</td>\n",
       "      <td>P01</td>\n",
       "      <td>33445</td>\n",
       "      <td>Best Choice Corn Chips</td>\n",
       "      <td>1000</td>\n",
       "      <td>974.69</td>\n",
       "      <td>...</td>\n",
       "      <td>10000481</td>\n",
       "      <td>G2</td>\n",
       "      <td>2</td>\n",
       "      <td></td>\n",
       "      <td>816-455-8733</td>\n",
       "      <td>4</td>\n",
       "      <td>S5</td>\n",
       "      <td>C</td>\n",
       "      <td>Central</td>\n",
       "      <td>Domestic</td>\n",
       "    </tr>\n",
       "  </tbody>\n",
       "</table>\n",
       "<p>2 rows × 34 columns</p>\n",
       "</div>"
      ],
      "text/plain": [
       "    CustKey    DateKey  Discount Amount Invoice Date  Invoice Number  \\\n",
       "1  10000481 2017-01-05          1681.20   2017-01-05          330000   \n",
       "2  10000481 2017-01-14           389.88   2017-01-14          120000   \n",
       "\n",
       "  Item Class Item Number                    Item  Line Number  List Price  \\\n",
       "1        P01       30283     Even Better 2% Milk         1000     1321.70   \n",
       "2        P01       33445  Best Choice Corn Chips         1000      974.69   \n",
       "\n",
       "   ...  Customer Number Customer Type  Division  Line of Business  \\\n",
       "1  ...         10000481            G2         2                     \n",
       "2  ...         10000481            G2         2                     \n",
       "\n",
       "          Phone  Region Code  Regional Sales Mgr  Search Type  Region Name  \\\n",
       "1  816-455-8733            4                  S5            C      Central   \n",
       "2  816-455-8733            4                  S5            C      Central   \n",
       "\n",
       "  Division Name  \n",
       "1      Domestic  \n",
       "2      Domestic  \n",
       "\n",
       "[2 rows x 34 columns]"
      ]
     },
     "execution_count": 35,
     "metadata": {},
     "output_type": "execute_result"
    }
   ],
   "source": [
    "df3.head(2)"
   ]
  },
  {
   "cell_type": "code",
   "execution_count": 36,
   "id": "8513cc19",
   "metadata": {},
   "outputs": [
    {
     "data": {
      "text/plain": [
       "(Index(['CustKey', 'DateKey', 'Discount Amount', 'Invoice Date',\n",
       "        'Invoice Number', 'Item Class', 'Item Number', 'Item', 'Line Number',\n",
       "        'List Price', 'Order Number', 'Promised Delivery Date', 'Sales Amount',\n",
       "        'Sales Amount Based on List Price', 'Sales Cost Amount',\n",
       "        'Sales Margin Amount', 'Sales Price', 'Sales Quantity', 'Sales Rep',\n",
       "        'U/M', 'Address Number', 'Business Family', 'Business Unit', 'Customer',\n",
       "        'Customer Number', 'Customer Type', 'Division', 'Line of Business',\n",
       "        'Phone', 'Region Code', 'Regional Sales Mgr', 'Search Type',\n",
       "        'Region Name', 'Division Name'],\n",
       "       dtype='object'),\n",
       " (57473, 34))"
      ]
     },
     "execution_count": 36,
     "metadata": {},
     "output_type": "execute_result"
    }
   ],
   "source": [
    "df3.columns, df3.shape"
   ]
  },
  {
   "cell_type": "code",
   "execution_count": 37,
   "id": "57fa47cd",
   "metadata": {},
   "outputs": [],
   "source": [
    "# keeping a subdataset for time series analysis \n",
    "df4=df3[['DateKey', 'Discount Amount', 'Invoice Date',\n",
    "       'Invoice Number', 'Item Class', 'Item Number', 'Item', \n",
    "       'List Price', 'Order Number', 'Sales Amount',\n",
    "       'Sales Amount Based on List Price', 'Sales Cost Amount',\n",
    "       'Sales Margin Amount', 'Sales Price', 'Sales Quantity']]\n"
   ]
  },
  {
   "cell_type": "code",
   "execution_count": 38,
   "id": "23789b1e",
   "metadata": {},
   "outputs": [
    {
     "data": {
      "text/html": [
       "<div>\n",
       "<style scoped>\n",
       "    .dataframe tbody tr th:only-of-type {\n",
       "        vertical-align: middle;\n",
       "    }\n",
       "\n",
       "    .dataframe tbody tr th {\n",
       "        vertical-align: top;\n",
       "    }\n",
       "\n",
       "    .dataframe thead th {\n",
       "        text-align: right;\n",
       "    }\n",
       "</style>\n",
       "<table border=\"1\" class=\"dataframe\">\n",
       "  <thead>\n",
       "    <tr style=\"text-align: right;\">\n",
       "      <th></th>\n",
       "      <th>DateKey</th>\n",
       "      <th>Discount Amount</th>\n",
       "      <th>Invoice Date</th>\n",
       "      <th>Invoice Number</th>\n",
       "      <th>Item Class</th>\n",
       "      <th>Item Number</th>\n",
       "      <th>Item</th>\n",
       "      <th>List Price</th>\n",
       "      <th>Order Number</th>\n",
       "      <th>Sales Amount</th>\n",
       "      <th>Sales Amount Based on List Price</th>\n",
       "      <th>Sales Cost Amount</th>\n",
       "      <th>Sales Margin Amount</th>\n",
       "      <th>Sales Price</th>\n",
       "      <th>Sales Quantity</th>\n",
       "    </tr>\n",
       "  </thead>\n",
       "  <tbody>\n",
       "    <tr>\n",
       "      <th>1</th>\n",
       "      <td>2017-01-05</td>\n",
       "      <td>1681.20</td>\n",
       "      <td>2017-01-05</td>\n",
       "      <td>330000</td>\n",
       "      <td>P01</td>\n",
       "      <td>30283</td>\n",
       "      <td>Even Better 2% Milk</td>\n",
       "      <td>1321.70</td>\n",
       "      <td>124466</td>\n",
       "      <td>2283.90</td>\n",
       "      <td>3965.10</td>\n",
       "      <td>1634.19</td>\n",
       "      <td>649.71</td>\n",
       "      <td>761.30</td>\n",
       "      <td>3</td>\n",
       "    </tr>\n",
       "    <tr>\n",
       "      <th>2</th>\n",
       "      <td>2017-01-14</td>\n",
       "      <td>389.88</td>\n",
       "      <td>2017-01-14</td>\n",
       "      <td>120000</td>\n",
       "      <td>P01</td>\n",
       "      <td>33445</td>\n",
       "      <td>Best Choice Corn Chips</td>\n",
       "      <td>974.69</td>\n",
       "      <td>217302</td>\n",
       "      <td>584.81</td>\n",
       "      <td>974.69</td>\n",
       "      <td>353.52</td>\n",
       "      <td>231.29</td>\n",
       "      <td>584.81</td>\n",
       "      <td>1</td>\n",
       "    </tr>\n",
       "    <tr>\n",
       "      <th>3</th>\n",
       "      <td>2017-01-17</td>\n",
       "      <td>389.88</td>\n",
       "      <td>2017-01-17</td>\n",
       "      <td>120327</td>\n",
       "      <td>P01</td>\n",
       "      <td>33445</td>\n",
       "      <td>Best Choice Corn Chips</td>\n",
       "      <td>974.69</td>\n",
       "      <td>217557</td>\n",
       "      <td>584.81</td>\n",
       "      <td>974.69</td>\n",
       "      <td>353.52</td>\n",
       "      <td>231.29</td>\n",
       "      <td>584.81</td>\n",
       "      <td>1</td>\n",
       "    </tr>\n",
       "  </tbody>\n",
       "</table>\n",
       "</div>"
      ],
      "text/plain": [
       "     DateKey  Discount Amount Invoice Date  Invoice Number Item Class  \\\n",
       "1 2017-01-05          1681.20   2017-01-05          330000        P01   \n",
       "2 2017-01-14           389.88   2017-01-14          120000        P01   \n",
       "3 2017-01-17           389.88   2017-01-17          120327        P01   \n",
       "\n",
       "  Item Number                    Item  List Price  Order Number  Sales Amount  \\\n",
       "1       30283     Even Better 2% Milk     1321.70        124466       2283.90   \n",
       "2       33445  Best Choice Corn Chips      974.69        217302        584.81   \n",
       "3       33445  Best Choice Corn Chips      974.69        217557        584.81   \n",
       "\n",
       "   Sales Amount Based on List Price  Sales Cost Amount  Sales Margin Amount  \\\n",
       "1                           3965.10            1634.19               649.71   \n",
       "2                            974.69             353.52               231.29   \n",
       "3                            974.69             353.52               231.29   \n",
       "\n",
       "   Sales Price  Sales Quantity  \n",
       "1       761.30               3  \n",
       "2       584.81               1  \n",
       "3       584.81               1  "
      ]
     },
     "execution_count": 38,
     "metadata": {},
     "output_type": "execute_result"
    }
   ],
   "source": [
    "df4.head(3)\n",
    "#find the sales trend - yearly, monthly etc "
   ]
  },
  {
   "cell_type": "code",
   "execution_count": 39,
   "id": "506e56ef",
   "metadata": {},
   "outputs": [],
   "source": [
    "df4=df4.set_index('DateKey')"
   ]
  },
  {
   "cell_type": "code",
   "execution_count": 40,
   "id": "7428b230",
   "metadata": {},
   "outputs": [],
   "source": [
    "df_grp=df4.groupby(['DateKey'])['Sales Amount'].sum()"
   ]
  },
  {
   "cell_type": "code",
   "execution_count": 41,
   "id": "4cbf2285",
   "metadata": {},
   "outputs": [
    {
     "data": {
      "image/png": "[encoded data removed]",
      "text/plain": [
       "<Figure size 864x288 with 1 Axes>"
      ]
     },
     "metadata": {
      "needs_background": "light"
     },
     "output_type": "display_data"
    }
   ],
   "source": [
    "#plotting time series \n",
    "\n",
    "df_grp.plot(figsize=(12, 4))\n",
    "plt.legend(loc='best')\n",
    "plt.title('sales trend')\n",
    "plt.show(block=False)"
   ]
  },
  {
   "cell_type": "code",
   "execution_count": 42,
   "id": "0a668df7",
   "metadata": {},
   "outputs": [
    {
     "data": {
      "image/png": "[encoded data removed]",
      "text/plain": [
       "<Figure size 864x288 with 1 Axes>"
      ]
     },
     "metadata": {
      "needs_background": "light"
     },
     "output_type": "display_data"
    }
   ],
   "source": [
    "df_sales.groupby(['DateKey'])['Sales Amount'].sum().plot(figsize=(12, 4))\n",
    "\n",
    "plt.legend(loc='best')\n",
    "plt.title('sales trend')\n",
    "plt.show(block=False)"
   ]
  },
  {
   "cell_type": "code",
   "execution_count": 43,
   "id": "0577fbcd",
   "metadata": {},
   "outputs": [],
   "source": [
    "sales_trend=df_sales.groupby(['DateKey'])['Sales Amount'].sum()\n"
   ]
  },
  {
   "cell_type": "code",
   "execution_count": 44,
   "id": "a388ac57",
   "metadata": {},
   "outputs": [],
   "source": [
    "sales_trend=sales_trend.groupby(pd.Grouper(freq='M')).sum()"
   ]
  },
  {
   "cell_type": "code",
   "execution_count": 45,
   "id": "a711ebf3",
   "metadata": {},
   "outputs": [],
   "source": [
    "#dividing the sheets up by years \n",
    "# sales_trend\n",
    "amz_2017=sales_trend['2017-01-31':'2017-12-31']\n",
    "amz_2019=sales_trend['2019-01-31':'2019-12-31']\n",
    "amz_2018=sales_trend['2018-01-31':'2018-12-31']\n",
    "\n",
    "amz_2017.to_excel('amz2017.xlsx')\n",
    "amz_2019.to_excel('amz2019.xlsx')\n",
    "amz_2018.to_excel('amz2018.xlsx')"
   ]
  },
  {
   "cell_type": "code",
   "execution_count": 46,
   "id": "b8f66e49",
   "metadata": {},
   "outputs": [
    {
     "data": {
      "image/png": "[encoded data removed]",
      "text/plain": [
       "<Figure size 864x288 with 1 Axes>"
      ]
     },
     "metadata": {
      "needs_background": "light"
     },
     "output_type": "display_data"
    }
   ],
   "source": [
    "amz_2017.plot(figsize=(12, 4))\n",
    "\n",
    "plt.legend(loc='best')\n",
    "plt.title('sales trend 2017')\n",
    "plt.show(block=False)"
   ]
  },
  {
   "cell_type": "code",
   "execution_count": 47,
   "id": "47223532",
   "metadata": {},
   "outputs": [
    {
     "data": {
      "image/png": "[encoded data removed]",
      "text/plain": [
       "<Figure size 864x288 with 1 Axes>"
      ]
     },
     "metadata": {
      "needs_background": "light"
     },
     "output_type": "display_data"
    }
   ],
   "source": [
    "amz_2019.plot(figsize=(12, 4))\n",
    "\n",
    "plt.legend(loc='best')\n",
    "plt.title('sales trend 2019')\n",
    "plt.show(block=False)"
   ]
  },
  {
   "cell_type": "markdown",
   "id": "ad9c5ba3",
   "metadata": {},
   "source": [
    "# time series analysis of 2017 sales data \n",
    "#### we can now proceed to perform time series analysis on these two timelines for the following objectives \n",
    "\n",
    "- find the yearly sales trend \n",
    "- find the monthly sales trend \n",
    "- find the quarterly sales trend "
   ]
  },
  {
   "cell_type": "code",
   "execution_count": 48,
   "id": "0c659dd9",
   "metadata": {},
   "outputs": [],
   "source": [
    "data=amz_2017\n",
    "data=pd.DataFrame(data)\n"
   ]
  },
  {
   "cell_type": "code",
   "execution_count": 49,
   "id": "5e16210c",
   "metadata": {},
   "outputs": [],
   "source": [
    "data.rename({'Sales Amount':'SalesAmount'},axis=1, inplace=True)\n",
    "\n"
   ]
  },
  {
   "cell_type": "code",
   "execution_count": 50,
   "id": "f867d530",
   "metadata": {},
   "outputs": [
    {
     "data": {
      "image/png": "[encoded data removed]",
      "text/plain": [
       "<Figure size 864x144 with 1 Axes>"
      ]
     },
     "metadata": {
      "needs_background": "light"
     },
     "output_type": "display_data"
    }
   ],
   "source": [
    "\n",
    "fig = plt.subplots(figsize=(12, 2))\n",
    "ax = sns.boxplot(x=data['SalesAmount'],whis=1.5)"
   ]
  },
  {
   "cell_type": "code",
   "execution_count": 51,
   "id": "01b7ba9e",
   "metadata": {},
   "outputs": [
    {
     "data": {
      "image/png": "[encoded data removed]",
      "text/plain": [
       "<Figure size 864x576 with 4 Axes>"
      ]
     },
     "metadata": {
      "needs_background": "light"
     },
     "output_type": "display_data"
    }
   ],
   "source": [
    "#seasonal decomposition - removing the seasonality from the time series \n",
    "\n",
    "from pylab import rcParams\n",
    "import statsmodels.api as sm\n",
    "rcParams['figure.figsize'] = 12, 8\n",
    "decomposition = sm.tsa.seasonal_decompose(data.SalesAmount, model='additive',period=6) # additive seasonal index\n",
    "fig = decomposition.plot()\n",
    "plt.show()"
   ]
  },
  {
   "cell_type": "markdown",
   "id": "da8d33f4",
   "metadata": {},
   "source": [
    "### building a forecasting model "
   ]
  },
  {
   "cell_type": "code",
   "execution_count": 52,
   "id": "0011aca6",
   "metadata": {},
   "outputs": [
    {
     "name": "stdout",
     "output_type": "stream",
     "text": [
      "using 20% of data as test - rest as train- making train set as 9.600000000000001 rows \n"
     ]
    }
   ],
   "source": [
    "print('using 20% of data as test - rest as train- making train set as {} rows '.format( len(data)*0.8  )) "
   ]
  },
  {
   "cell_type": "code",
   "execution_count": 53,
   "id": "455a6ab2",
   "metadata": {},
   "outputs": [],
   "source": [
    "train_len = 10\n",
    "train = data[0:train_len] # first 9 rows as training set\n",
    "test = data[train_len-1:] # last 3 months as out-of-time test set"
   ]
  },
  {
   "cell_type": "code",
   "execution_count": 54,
   "id": "967be7b7",
   "metadata": {},
   "outputs": [],
   "source": [
    "#naive forcast \n",
    "y_hat_naive = test.copy()\n",
    "y_hat_naive['naive_forecast'] = train['SalesAmount'][train_len-1]"
   ]
  },
  {
   "cell_type": "code",
   "execution_count": 55,
   "id": "2befdb4c",
   "metadata": {},
   "outputs": [
    {
     "data": {
      "image/png": "[encoded data removed]",
      "text/plain": [
       "<Figure size 864x288 with 1 Axes>"
      ]
     },
     "metadata": {
      "needs_background": "light"
     },
     "output_type": "display_data"
    }
   ],
   "source": [
    "plt.figure(figsize=(12,4))\n",
    "plt.plot(train['SalesAmount'], label='Train')\n",
    "plt.plot(test['SalesAmount'], label='Test')\n",
    "plt.plot(y_hat_naive['naive_forecast'], label='Naive forecast')\n",
    "plt.legend(loc='best')\n",
    "plt.title('Naive Method')\n",
    "plt.show()"
   ]
  },
  {
   "cell_type": "code",
   "execution_count": 56,
   "id": "1598661a",
   "metadata": {},
   "outputs": [
    {
     "data": {
      "text/html": [
       "<div>\n",
       "<style scoped>\n",
       "    .dataframe tbody tr th:only-of-type {\n",
       "        vertical-align: middle;\n",
       "    }\n",
       "\n",
       "    .dataframe tbody tr th {\n",
       "        vertical-align: top;\n",
       "    }\n",
       "\n",
       "    .dataframe thead th {\n",
       "        text-align: right;\n",
       "    }\n",
       "</style>\n",
       "<table border=\"1\" class=\"dataframe\">\n",
       "  <thead>\n",
       "    <tr style=\"text-align: right;\">\n",
       "      <th></th>\n",
       "      <th>Method</th>\n",
       "      <th>RMSE</th>\n",
       "      <th>MAPE</th>\n",
       "    </tr>\n",
       "  </thead>\n",
       "  <tbody>\n",
       "    <tr>\n",
       "      <th>0</th>\n",
       "      <td>Naive method</td>\n",
       "      <td>687725.29</td>\n",
       "      <td>7.77</td>\n",
       "    </tr>\n",
       "  </tbody>\n",
       "</table>\n",
       "</div>"
      ],
      "text/plain": [
       "         Method       RMSE  MAPE\n",
       "0  Naive method  687725.29  7.77"
      ]
     },
     "execution_count": 56,
     "metadata": {},
     "output_type": "execute_result"
    }
   ],
   "source": [
    "#calculating RMSE and MAPE \n",
    "\n",
    "from sklearn.metrics import mean_squared_error\n",
    "rmse = np.sqrt(mean_squared_error(test['SalesAmount'], y_hat_naive['naive_forecast'])).round(2)\n",
    "mape = np.round(np.mean(np.abs(test['SalesAmount']-y_hat_naive['naive_forecast'])/test['SalesAmount'])*100,2)\n",
    "\n",
    "results = pd.DataFrame({'Method':['Naive method'], 'MAPE': [mape], 'RMSE': [rmse]})\n",
    "results = results[['Method', 'RMSE', 'MAPE']]\n",
    "results"
   ]
  },
  {
   "cell_type": "code",
   "execution_count": 57,
   "id": "b509be44",
   "metadata": {},
   "outputs": [],
   "source": [
    "#naive method is producing sub par results - due to higher outliers - this can be viewed in the RMSE \n",
    "#taking the baseline case \n",
    "y_hat_avg = test.copy()\n",
    "y_hat_avg['avg_forecast'] = train['SalesAmount'].mean()\n"
   ]
  },
  {
   "cell_type": "code",
   "execution_count": 58,
   "id": "e2d74d95",
   "metadata": {},
   "outputs": [
    {
     "data": {
      "image/png": "[encoded data removed]",
      "text/plain": [
       "<Figure size 864x288 with 1 Axes>"
      ]
     },
     "metadata": {
      "needs_background": "light"
     },
     "output_type": "display_data"
    }
   ],
   "source": [
    "#taking the simple average method \n",
    "\n",
    "plt.figure(figsize=(12,4))\n",
    "plt.plot(train['SalesAmount'], label='Train')\n",
    "plt.plot(test['SalesAmount'], label='Test')\n",
    "plt.plot(y_hat_avg['avg_forecast'], label='Simple average forecast')\n",
    "plt.legend(loc='best')\n",
    "plt.title('Simple Average Method')\n",
    "plt.show()\n"
   ]
  },
  {
   "cell_type": "code",
   "execution_count": 59,
   "id": "6b927be5",
   "metadata": {},
   "outputs": [
    {
     "data": {
      "text/html": [
       "<div>\n",
       "<style scoped>\n",
       "    .dataframe tbody tr th:only-of-type {\n",
       "        vertical-align: middle;\n",
       "    }\n",
       "\n",
       "    .dataframe tbody tr th {\n",
       "        vertical-align: top;\n",
       "    }\n",
       "\n",
       "    .dataframe thead th {\n",
       "        text-align: right;\n",
       "    }\n",
       "</style>\n",
       "<table border=\"1\" class=\"dataframe\">\n",
       "  <thead>\n",
       "    <tr style=\"text-align: right;\">\n",
       "      <th></th>\n",
       "      <th>Method</th>\n",
       "      <th>RMSE</th>\n",
       "      <th>MAPE</th>\n",
       "    </tr>\n",
       "  </thead>\n",
       "  <tbody>\n",
       "    <tr>\n",
       "      <th>0</th>\n",
       "      <td>Naive method</td>\n",
       "      <td>687725.29</td>\n",
       "      <td>7.77</td>\n",
       "    </tr>\n",
       "    <tr>\n",
       "      <th>0</th>\n",
       "      <td>Simple average method</td>\n",
       "      <td>547779.58</td>\n",
       "      <td>5.78</td>\n",
       "    </tr>\n",
       "  </tbody>\n",
       "</table>\n",
       "</div>"
      ],
      "text/plain": [
       "                  Method       RMSE  MAPE\n",
       "0           Naive method  687725.29  7.77\n",
       "0  Simple average method  547779.58  5.78"
      ]
     },
     "execution_count": 59,
     "metadata": {},
     "output_type": "execute_result"
    }
   ],
   "source": [
    "rmse = np.sqrt(mean_squared_error(test['SalesAmount'], y_hat_avg['avg_forecast'])).round(2)\n",
    "mape = np.round(np.mean(np.abs(test['SalesAmount']-y_hat_avg['avg_forecast'])/test['SalesAmount'])*100,2)\n",
    "\n",
    "tempResults = pd.DataFrame({'Method':['Simple average method'], 'RMSE': [rmse],'MAPE': [mape] })\n",
    "results = pd.concat([results, tempResults])\n",
    "results = results[['Method', 'RMSE', 'MAPE']]\n",
    "results"
   ]
  },
  {
   "cell_type": "code",
   "execution_count": 60,
   "id": "0f8af27d",
   "metadata": {},
   "outputs": [],
   "source": [
    "# results from the simple average method - is the same or worse than the naive method \n",
    "#using the SIMPLE MOVING AVERAGE METHOD \n",
    "\n",
    "y_hat_sma = data.copy()\n",
    "ma_window = 48\n",
    "y_hat_sma['sma_forecast'] = data['SalesAmount'].rolling(ma_window).mean()\n",
    "y_hat_sma['sma_forecast'][train_len:] = y_hat_sma['sma_forecast'][train_len-1]"
   ]
  },
  {
   "cell_type": "code",
   "execution_count": 61,
   "id": "d07e90f3",
   "metadata": {},
   "outputs": [
    {
     "data": {
      "image/png": "[encoded data removed]",
      "text/plain": [
       "<Figure size 864x288 with 1 Axes>"
      ]
     },
     "metadata": {
      "needs_background": "light"
     },
     "output_type": "display_data"
    }
   ],
   "source": [
    "plt.figure(figsize=(12,4))\n",
    "plt.plot(train['SalesAmount'], label='Train')\n",
    "plt.plot(test['SalesAmount'], label='Test')\n",
    "plt.plot(y_hat_sma['sma_forecast'], label='Simple moving average forecast')\n",
    "plt.legend(loc='best')\n",
    "plt.title('Simple Moving Average Method')\n",
    "plt.show()"
   ]
  },
  {
   "cell_type": "code",
   "execution_count": null,
   "id": "a054c90b",
   "metadata": {
    "scrolled": true
   },
   "outputs": [],
   "source": []
  },
  {
   "cell_type": "code",
   "execution_count": 62,
   "id": "9fb95dfd",
   "metadata": {},
   "outputs": [],
   "source": [
    "from sklearn.model_selection import GridSearchCV\n"
   ]
  },
  {
   "cell_type": "code",
   "execution_count": 63,
   "id": "b589bab0",
   "metadata": {},
   "outputs": [
    {
     "name": "stdout",
     "output_type": "stream",
     "text": [
      "{'smoothing_level': 0.44, 'smoothing_trend': 1.0, 'smoothing_seasonal': None, 'damping_trend': nan, 'initial_level': 7428660.871999996, 'initial_trend': -22585.888181817834, 'initial_seasons': array([], dtype=float64), 'use_boxcox': False, 'lamda': None, 'remove_bias': False}\n"
     ]
    }
   ],
   "source": [
    "from statsmodels.tsa.holtwinters import ExponentialSmoothing\n",
    "\n",
    "model = ExponentialSmoothing(np.asarray(train['SalesAmount']) ,seasonal_periods=12 ,trend='additive', seasonal=None)\n",
    "model_fit = model.fit(smoothing_level=0.44, smoothing_slope=1, optimized=False)  #smoothing_level aka alpha smoothing_slope aka beta \n",
    "print(model_fit.params)\n",
    "y_hat_holt = test.copy()\n",
    "y_hat_holt['holt_forecast'] = model_fit.forecast(len(test))"
   ]
  },
  {
   "cell_type": "code",
   "execution_count": 64,
   "id": "8e85bf44",
   "metadata": {},
   "outputs": [
    {
     "name": "stdout",
     "output_type": "stream",
     "text": [
      "{'smoothing_level': 0.4, 'smoothing_trend': 0.32, 'smoothing_seasonal': None, 'damping_trend': nan, 'initial_level': 7428660.871999996, 'initial_trend': -22585.888181817834, 'initial_seasons': array([], dtype=float64), 'use_boxcox': False, 'lamda': None, 'remove_bias': False}\n"
     ]
    }
   ],
   "source": [
    "from statsmodels.tsa.holtwinters import ExponentialSmoothing\n",
    "model = ExponentialSmoothing(np.asarray(train['SalesAmount']) ,seasonal_periods=12 ,trend='additive', seasonal=None)\n",
    "model_fit = model.fit(smoothing_level=0.40, smoothing_slope=0.32, optimized=False)  #smoothing_level aka alpha smoothing_slope aka beta \n",
    "print(model_fit.params)\n",
    "y_hat_holt = test.copy()\n",
    "y_hat_holt['holt_forecast'] = model_fit.forecast(len(test))"
   ]
  },
  {
   "cell_type": "code",
   "execution_count": 65,
   "id": "3a5a553b",
   "metadata": {},
   "outputs": [
    {
     "data": {
      "image/png": "[encoded data removed]",
      "text/plain": [
       "<Figure size 864x288 with 1 Axes>"
      ]
     },
     "metadata": {
      "needs_background": "light"
     },
     "output_type": "display_data"
    }
   ],
   "source": [
    "plt.figure(figsize=(12,4))\n",
    "plt.plot( train['SalesAmount'], label='Train')\n",
    "plt.plot(test['SalesAmount'], label='Test')\n",
    "plt.plot(y_hat_holt['holt_forecast'], label='Holt\\'s exponential smoothing forecast')\n",
    "plt.legend(loc='best')\n",
    "plt.title('Holt\\'s Exponential Smoothing Method')\n",
    "plt.show()"
   ]
  },
  {
   "cell_type": "code",
   "execution_count": 66,
   "id": "0e71690b",
   "metadata": {},
   "outputs": [
    {
     "data": {
      "text/html": [
       "<div>\n",
       "<style scoped>\n",
       "    .dataframe tbody tr th:only-of-type {\n",
       "        vertical-align: middle;\n",
       "    }\n",
       "\n",
       "    .dataframe tbody tr th {\n",
       "        vertical-align: top;\n",
       "    }\n",
       "\n",
       "    .dataframe thead th {\n",
       "        text-align: right;\n",
       "    }\n",
       "</style>\n",
       "<table border=\"1\" class=\"dataframe\">\n",
       "  <thead>\n",
       "    <tr style=\"text-align: right;\">\n",
       "      <th></th>\n",
       "      <th>Method</th>\n",
       "      <th>RMSE</th>\n",
       "      <th>MAPE</th>\n",
       "    </tr>\n",
       "  </thead>\n",
       "  <tbody>\n",
       "    <tr>\n",
       "      <th>0</th>\n",
       "      <td>Naive method</td>\n",
       "      <td>687725.29</td>\n",
       "      <td>7.77</td>\n",
       "    </tr>\n",
       "    <tr>\n",
       "      <th>0</th>\n",
       "      <td>Simple average method</td>\n",
       "      <td>547779.58</td>\n",
       "      <td>5.78</td>\n",
       "    </tr>\n",
       "    <tr>\n",
       "      <th>0</th>\n",
       "      <td>Holt's exponential smoothing method</td>\n",
       "      <td>649097.17</td>\n",
       "      <td>8.00</td>\n",
       "    </tr>\n",
       "  </tbody>\n",
       "</table>\n",
       "</div>"
      ],
      "text/plain": [
       "                                Method       RMSE  MAPE\n",
       "0                         Naive method  687725.29  7.77\n",
       "0                Simple average method  547779.58  5.78\n",
       "0  Holt's exponential smoothing method  649097.17  8.00"
      ]
     },
     "execution_count": 66,
     "metadata": {},
     "output_type": "execute_result"
    }
   ],
   "source": [
    "rmse = np.sqrt(mean_squared_error(test['SalesAmount'], y_hat_holt['holt_forecast'])).round(2)\n",
    "mape = np.round(np.mean(np.abs(test['SalesAmount']-y_hat_holt['holt_forecast'])/test['SalesAmount'])*100,2)\n",
    "\n",
    "tempResults = pd.DataFrame({'Method':['Holt\\'s exponential smoothing method'], 'RMSE': [rmse],'MAPE': [mape] })\n",
    "results = pd.concat([results, tempResults])\n",
    "results = results[['Method', 'RMSE', 'MAPE']]\n",
    "results"
   ]
  },
  {
   "cell_type": "code",
   "execution_count": 67,
   "id": "9709797e",
   "metadata": {},
   "outputs": [
    {
     "name": "stdout",
     "output_type": "stream",
     "text": [
      "{'smoothing_level': 0.3585714285714286, 'smoothing_trend': 0.3585714285714286, 'smoothing_seasonal': 0.0001, 'damping_trend': nan, 'initial_level': 7933389.0649999995, 'initial_trend': -662095.22, 'initial_seasons': array([1.09038526, 0.90961474]), 'use_boxcox': False, 'lamda': None, 'remove_bias': False}\n"
     ]
    },
    {
     "name": "stderr",
     "output_type": "stream",
     "text": [
      "/opt/anaconda3/lib/python3.7/site-packages/statsmodels/tsa/holtwinters/model.py:917: ConvergenceWarning: Optimization failed to converge. Check mle_retvals.\n",
      "  ConvergenceWarning,\n"
     ]
    }
   ],
   "source": [
    "# holts methd produced slightly better results \n",
    "# moving to holts/winters method \n",
    "\n",
    "y_hat_hwa = test.copy()\n",
    "model = ExponentialSmoothing(np.asarray(train['SalesAmount']) ,seasonal_periods=2 ,trend='add', seasonal='mul')\n",
    "model_fit = model.fit(optimized=True)\n",
    "print(model_fit.params)\n",
    "y_hat_hwa['hw_forecast'] = model_fit.forecast(3)"
   ]
  },
  {
   "cell_type": "code",
   "execution_count": 68,
   "id": "7ab25d1a",
   "metadata": {},
   "outputs": [
    {
     "name": "stdout",
     "output_type": "stream",
     "text": [
      "base line sales projection is 8137658 while minimum projection is 7186285 and max is 8796625 \n"
     ]
    }
   ],
   "source": [
    "print('base line sales projection is {} while minimum projection is {} and max is {} '.format(round(y_hat_hwa['hw_forecast'].mean()),round(y_hat_hwa['hw_forecast'].min()) , round(y_hat_hwa['hw_forecast'].max())))"
   ]
  },
  {
   "cell_type": "markdown",
   "id": "099b5d3c",
   "metadata": {},
   "source": [
    "#### basis the earlier trends - the simple average model yields the best results - we can use that to forecast the 2019 model as well "
   ]
  },
  {
   "cell_type": "code",
   "execution_count": 69,
   "id": "78ab245d",
   "metadata": {},
   "outputs": [],
   "source": [
    "data2=amz_2019\n",
    "data2=pd.DataFrame(data2)\n"
   ]
  },
  {
   "cell_type": "code",
   "execution_count": 70,
   "id": "e93b4468",
   "metadata": {},
   "outputs": [],
   "source": [
    "data2.rename({'Sales Amount':'SalesAmount'},axis=1, inplace=True)"
   ]
  },
  {
   "cell_type": "code",
   "execution_count": 71,
   "id": "779f6b4a",
   "metadata": {},
   "outputs": [
    {
     "data": {
      "image/png": "[encoded data removed]",
      "text/plain": [
       "<Figure size 864x144 with 1 Axes>"
      ]
     },
     "metadata": {
      "needs_background": "light"
     },
     "output_type": "display_data"
    }
   ],
   "source": [
    "fig = plt.subplots(figsize=(12, 2))\n",
    "ax = sns.boxplot(x=data2['SalesAmount'],whis=1.5)"
   ]
  },
  {
   "cell_type": "code",
   "execution_count": 72,
   "id": "42780bf5",
   "metadata": {},
   "outputs": [],
   "source": [
    "percentiles = data2['SalesAmount'].quantile([0.15,0.90]).values\n",
    "data2['SalesAmount'][data2['SalesAmount'] <= percentiles[0]] = percentiles[0]\n",
    "data2['SalesAmount'][data2['SalesAmount'] >= percentiles[1]] = percentiles[1]\n",
    "\n"
   ]
  },
  {
   "cell_type": "code",
   "execution_count": 73,
   "id": "2cda06d3",
   "metadata": {
    "scrolled": true
   },
   "outputs": [
    {
     "data": {
      "image/png": "[encoded data removed]",
      "text/plain": [
       "<Figure size 864x144 with 1 Axes>"
      ]
     },
     "metadata": {
      "needs_background": "light"
     },
     "output_type": "display_data"
    }
   ],
   "source": [
    "fig = plt.subplots(figsize=(12, 2))\n",
    "ax = sns.boxplot(x=data2['SalesAmount'],whis=1.5)\n"
   ]
  },
  {
   "cell_type": "code",
   "execution_count": 74,
   "id": "5f8254bd",
   "metadata": {},
   "outputs": [],
   "source": [
    "train_len = 10\n",
    "train = data2[0:train_len] # first 9 rows as training set\n",
    "test = data2[train_len-1:] # last 3 months as out-of-time test set"
   ]
  },
  {
   "cell_type": "code",
   "execution_count": 75,
   "id": "b48c3adc",
   "metadata": {},
   "outputs": [],
   "source": [
    "#using simple average method \n",
    "\n",
    "y_hat_sma = data2.copy()\n",
    "ma_window = 24\n",
    "y_hat_sma['sma_forecast'] = data2['SalesAmount'].rolling(ma_window).mean()\n",
    "y_hat_sma['sma_forecast'][train_len:] = y_hat_sma['sma_forecast'][train_len-1]\n",
    "\n"
   ]
  },
  {
   "cell_type": "code",
   "execution_count": 76,
   "id": "5f24789e",
   "metadata": {},
   "outputs": [
    {
     "data": {
      "image/png": "[encoded data removed]",
      "text/plain": [
       "<Figure size 864x288 with 1 Axes>"
      ]
     },
     "metadata": {
      "needs_background": "light"
     },
     "output_type": "display_data"
    }
   ],
   "source": [
    "plt.figure(figsize=(12,4))\n",
    "plt.plot(train['SalesAmount'], label='Train')\n",
    "plt.plot(test['SalesAmount'], label='Test')\n",
    "plt.plot(y_hat_sma['sma_forecast'], label='Simple moving average forecast')\n",
    "plt.legend(loc='best')\n",
    "plt.title('Simple Moving Average Method')\n",
    "plt.show()"
   ]
  },
  {
   "cell_type": "code",
   "execution_count": 77,
   "id": "161f9406",
   "metadata": {},
   "outputs": [],
   "source": [
    "rmse = np.sqrt(mean_squared_error(test['SalesAmount'], y_hat_avg['avg_forecast'])).round(2)\n",
    "mape = np.round(np.mean(np.abs(test['SalesAmount']-y_hat_avg['avg_forecast'])/test['SalesAmount'])*100,2)"
   ]
  },
  {
   "cell_type": "code",
   "execution_count": 78,
   "id": "94823e27",
   "metadata": {},
   "outputs": [
    {
     "name": "stdout",
     "output_type": "stream",
     "text": [
      "619338.98 nan\n"
     ]
    }
   ],
   "source": [
    "print(rmse,mape)"
   ]
  },
  {
   "cell_type": "code",
   "execution_count": 79,
   "id": "ef2f5fe5",
   "metadata": {},
   "outputs": [],
   "source": [
    "#### working on weekly forecasts \n",
    "\n",
    "sales_trend_wk=sales_trend.groupby(pd.Grouper(freq='Q')).sum()\n"
   ]
  },
  {
   "cell_type": "code",
   "execution_count": 80,
   "id": "96e79190",
   "metadata": {},
   "outputs": [],
   "source": [
    "q1_2017_q1_2018=sales_trend_wk['2017-03-31':'2018-06-30']\n",
    "q2_2018_q4_2018=sales_trend_wk['2018-06-30':'2019-03-31']\n",
    "q1_2019_q4_2019=sales_trend_wk['2019-03-31':'2019-12-31']"
   ]
  },
  {
   "cell_type": "code",
   "execution_count": 84,
   "id": "7bacd01a",
   "metadata": {},
   "outputs": [
    {
     "data": {
      "text/plain": [
       "DateKey\n",
       "2017-12-31    87462706.40\n",
       "2018-12-31    20817471.00\n",
       "2019-12-31    77906591.65\n",
       "Freq: A-DEC, Name: Sales Amount, dtype: float64"
      ]
     },
     "execution_count": 84,
     "metadata": {},
     "output_type": "execute_result"
    }
   ],
   "source": [
    "sales_trend.groupby(pd.Grouper(freq='Y')).sum()"
   ]
  },
  {
   "cell_type": "code",
   "execution_count": null,
   "id": "3eef40b1",
   "metadata": {},
   "outputs": [],
   "source": []
  },
  {
   "cell_type": "code",
   "execution_count": null,
   "id": "0998e6ee",
   "metadata": {},
   "outputs": [],
   "source": []
  },
  {
   "cell_type": "code",
   "execution_count": null,
   "id": "7b7906f4",
   "metadata": {},
   "outputs": [],
   "source": []
  }
 ],
 "metadata": {
  "kernelspec": {
   "display_name": "Python 3 (ipykernel)",
   "language": "python",
   "name": "python3"
  },
  "language_info": {
   "codemirror_mode": {
    "name": "ipython",
    "version": 3
   },
   "file_extension": ".py",
   "mimetype": "text/x-python",
   "name": "python",
   "nbconvert_exporter": "python",
   "pygments_lexer": "ipython3",
   "version": "3.7.6"
  }
 },
 "nbformat": 4,
 "nbformat_minor": 5
}
